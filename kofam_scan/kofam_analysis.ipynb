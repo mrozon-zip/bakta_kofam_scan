{
 "cells": [
  {
   "cell_type": "code",
   "execution_count": 49,
   "id": "de5fefa8-301f-4552-a472-847d7215ddaa",
   "metadata": {},
   "outputs": [],
   "source": [
    "import pandas as pd\n",
    "import re\n",
    "from pathlib import Path"
   ]
  },
  {
   "cell_type": "code",
   "execution_count": 57,
   "id": "f2aac5ea-32f5-43b4-b37d-2ad040d5f952",
   "metadata": {},
   "outputs": [],
   "source": [
    "bacteria = [\"3500\", \"3502\", \"3516\"]\n",
    "version = [\".hypotheticals\", \"\"]  # both variants\n",
    "\n",
    "def txt_to_csv(file_path: str) -> str:\n",
    "    rows = []\n",
    "    infile = f\"{file_path}.txt\"\n",
    "    with open(infile, \"r\") as f:\n",
    "        for line in f:\n",
    "            line = line.strip()\n",
    "            if not line or line.startswith(\"#\"):\n",
    "                continue\n",
    "            parts = line.split()\n",
    "            if parts[0] == \"*\":  # skip the marker\n",
    "                parts = parts[1:]\n",
    "\n",
    "            gene = parts[0]\n",
    "            ko = parts[1]\n",
    "            threshold = parts[2]\n",
    "            score = parts[3]\n",
    "            e_value = parts[4]\n",
    "            definition = \" \".join(parts[5:])\n",
    "            rows.append([gene, ko, threshold, score, e_value, definition])\n",
    "\n",
    "    df = pd.DataFrame(rows, columns=[\"Gene\", \"KO\", \"Threshold\", \"Score\", \"E-value\", \"KO Definition\"])\n",
    "\n",
    "    for col in [\"Threshold\", \"Score\", \"E-value\"]:\n",
    "        df[col] = pd.to_numeric(df[col], errors=\"coerce\")\n",
    "\n",
    "    outfile = f\"{file_path}.csv\"\n",
    "    df.to_csv(outfile, index=False)\n",
    "    return outfile\n",
    "\n",
    "files = [txt_to_csv(f\"{b}/{b}_bakta_annotation/{b}{v}_kofamscan\")\n",
    "         for b in bacteria for v in version]"
   ]
  },
  {
   "cell_type": "code",
   "execution_count": 63,
   "id": "8dd156ed-7b4b-452b-bc1f-9dab6c582e1e",
   "metadata": {},
   "outputs": [],
   "source": [
    "ko = [\"K01580\", \"K20265\"]\n",
    "ko_definition = [\"gadR\"]\n",
    "\n",
    "def find_genes(filepath, ko, ko_definition):\n",
    "    df = pd.read_csv(filepath).fillna(\"\")\n",
    "    df[\"KO\"] = df[\"KO\"].astype(str).str.strip()\n",
    "    df[\"KO Definition\"] = df[\"KO Definition\"].astype(str).str.strip()\n",
    "\n",
    "    mask_ko = df[\"KO\"].isin(ko)\n",
    "    pattern = \"|\".join(re.escape(term) for term in ko_definition if term)\n",
    "    mask_def = df[\"KO Definition\"].str.contains(pattern, case=False, na=False)\n",
    "\n",
    "    return df.loc[mask_ko | mask_def].copy()"
   ]
  },
  {
   "cell_type": "code",
   "execution_count": 65,
   "id": "db1dcce2-9b14-4531-83bb-195a1d09149e",
   "metadata": {},
   "outputs": [
    {
     "name": "stdout",
     "output_type": "stream",
     "text": [
      "Saved: 3500/3500_bakta_annotation/3500.hypotheticals_kofamscan_scan.csv\n",
      "Saved: 3500/3500_bakta_annotation/3500_kofamscan_scan.csv\n",
      "Saved: 3502/3502_bakta_annotation/3502.hypotheticals_kofamscan_scan.csv\n",
      "Saved: 3502/3502_bakta_annotation/3502_kofamscan_scan.csv\n",
      "Saved: 3516/3516_bakta_annotation/3516.hypotheticals_kofamscan_scan.csv\n",
      "Saved: 3516/3516_bakta_annotation/3516_kofamscan_scan.csv\n"
     ]
    }
   ],
   "source": [
    "for file in files:\n",
    "    result = find_genes(file, ko, ko_definition)\n",
    "\n",
    "    outfile = Path(file).with_suffix(\"\")  # strip .csv\n",
    "    outfile = f\"{outfile}_scan.csv\"\n",
    "\n",
    "    result.to_csv(outfile, sep=\"\\t\", index=False)\n",
    "    print(f\"Saved: {outfile}\")"
   ]
  },
  {
   "cell_type": "code",
   "execution_count": null,
   "id": "c0df190b-19fc-44ef-8527-a333056d86d4",
   "metadata": {},
   "outputs": [],
   "source": []
  }
 ],
 "metadata": {
  "kernelspec": {
   "display_name": "Python 3 (ipykernel)",
   "language": "python",
   "name": "python3"
  },
  "language_info": {
   "codemirror_mode": {
    "name": "ipython",
    "version": 3
   },
   "file_extension": ".py",
   "mimetype": "text/x-python",
   "name": "python",
   "nbconvert_exporter": "python",
   "pygments_lexer": "ipython3",
   "version": "3.12.7"
  }
 },
 "nbformat": 4,
 "nbformat_minor": 5
}
